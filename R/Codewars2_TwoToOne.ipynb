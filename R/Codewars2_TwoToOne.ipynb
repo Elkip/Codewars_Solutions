{
 "cells": [
  {
   "cell_type": "markdown",
   "id": "fb3ec25a",
   "metadata": {},
   "source": [
    "Take 2 strings s1 and s2 including only letters from a to z. Return a new sorted string, the longest possible, containing distinct letters - each taken only once - coming from s1 or s2.Take 2 strings s1 and s2 including only letters from a to z. Return a new sorted string, the longest possible, containing distinct letters - each taken only once - coming from s1 or s2.\n",
    "\n",
    "```\n",
    "a = \"xyaabbbccccdefww\"\n",
    "b = \"xxxxyyyyabklmopq\"\n",
    "longest(a, b) -> \"abcdefklmopqwxy\"\n",
    "\n",
    "a = \"abcdefghijklmnopqrstuvwxyz\"\n",
    "longest(a, a) -> \"abcdefghijklmnopqrstuvwxyz\"\n",
    "```"
   ]
  },
  {
   "cell_type": "code",
   "execution_count": 92,
   "id": "d0e5c707",
   "metadata": {},
   "outputs": [],
   "source": [
    "longest <- function(s1, s2) {\n",
    "    res <- sort(c(unique(strsplit(s1, \"\")[[1]]), unique(strsplit(s2, \"\")[[1]])))\n",
    "    return(gsub(\", \", \"\", toString(paste(unique(res)))))\n",
    "}"
   ]
  },
  {
   "cell_type": "code",
   "execution_count": 93,
   "id": "bb784ad1",
   "metadata": {},
   "outputs": [
    {
     "data": {
      "text/html": [
       "'abce'"
      ],
      "text/latex": [
       "'abce'"
      ],
      "text/markdown": [
       "'abce'"
      ],
      "text/plain": [
       "[1] \"abce\""
      ]
     },
     "metadata": {},
     "output_type": "display_data"
    }
   ],
   "source": [
    "longest(\"aaebc\", \"aaa\")"
   ]
  },
  {
   "cell_type": "code",
   "execution_count": 89,
   "id": "48af8dbe",
   "metadata": {},
   "outputs": [
    {
     "name": "stdout",
     "output_type": "stream",
     "text": [
      "s1:  aretheyhere \n",
      "s2:  yestheyarehere \n",
      "actual:\n",
      "  aehrsty \n",
      "expect:\n",
      "  aehrsty \n",
      "s1:  loopingisfunbutdangerous \n",
      "s2:  lessdangerousthancoding \n",
      "actual:\n",
      "  abcdefghilnoprstu \n",
      "expect:\n",
      "  abcdefghilnoprstu \n",
      "\u001B[32mTest passed\u001B[39m 😀\n"
     ]
    }
   ],
   "source": [
    "library(testthat)\n",
    "\n",
    "dotest <- function(s1, s2, expect) {\n",
    "  cat(\"s1: \", s1, \"\\ns2: \", s2, \"\\n\")\n",
    "  actual <- longest(s1, s2)\n",
    "  cat(\"actual:\\n \", actual, \"\\n\")\n",
    "  cat(\"expect:\\n \", expect, \"\\n\")\n",
    "  expect_equal(actual, expect)\n",
    "}\n",
    "\n",
    "test_that(\"fixed tests\", {\n",
    "  dotest(\"aretheyhere\", \"yestheyarehere\", \"aehrsty\")\n",
    "  dotest(\"loopingisfunbutdangerous\", \"lessdangerousthancoding\", \"abcdefghilnoprstu\")\n",
    "  \n",
    "})"
   ]
  },
  {
   "cell_type": "code",
   "execution_count": null,
   "id": "90797ac5",
   "metadata": {},
   "outputs": [],
   "source": []
  }
 ],
 "metadata": {
  "kernelspec": {
   "display_name": "R",
   "language": "R",
   "name": "ir"
  },
  "language_info": {
   "codemirror_mode": "r",
   "file_extension": ".r",
   "mimetype": "text/x-r-source",
   "name": "R",
   "pygments_lexer": "r",
   "version": "4.2.0"
  }
 },
 "nbformat": 4,
 "nbformat_minor": 5
}
